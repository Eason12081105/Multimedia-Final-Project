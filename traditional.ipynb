{
 "cells": [
  {
   "cell_type": "markdown",
   "metadata": {},
   "source": [
    "# Image Vectorization using Traditional method\n",
    "\n",
    "# step 0: import packages"
   ]
  },
  {
   "cell_type": "code",
   "execution_count": 1,
   "metadata": {},
   "outputs": [
    {
     "name": "stdout",
     "output_type": "stream",
     "text": [
      "Requirement already satisfied: opencv-python in /Users/easonou/anaconda3/envs/aia16/lib/python3.8/site-packages (4.9.0.80)\n",
      "Requirement already satisfied: numpy>=1.17.0 in /Users/easonou/anaconda3/envs/aia16/lib/python3.8/site-packages (from opencv-python) (1.24.4)\n",
      "Requirement already satisfied: numpy in /Users/easonou/anaconda3/envs/aia16/lib/python3.8/site-packages (1.24.4)\n",
      "Requirement already satisfied: scipy in /Users/easonou/anaconda3/envs/aia16/lib/python3.8/site-packages (1.10.1)\n",
      "Requirement already satisfied: numpy<1.27.0,>=1.19.5 in /Users/easonou/anaconda3/envs/aia16/lib/python3.8/site-packages (from scipy) (1.24.4)\n",
      "Requirement already satisfied: svgwrite in /Users/easonou/anaconda3/envs/aia16/lib/python3.8/site-packages (1.4.3)\n"
     ]
    }
   ],
   "source": [
    "# install packages\n",
    "!pip install opencv-python\n",
    "!pip install numpy\n",
    "!pip install scipy\n",
    "!pip install svgwrite"
   ]
  },
  {
   "cell_type": "code",
   "execution_count": 2,
   "metadata": {},
   "outputs": [],
   "source": [
    "# import packages\n",
    "import cv2\n",
    "import numpy as np\n",
    "from scipy.interpolate import splprep, splev\n",
    "import svgwrite\n",
    "import os"
   ]
  },
  {
   "cell_type": "markdown",
   "metadata": {},
   "source": [
    "# step 1: Interpolation\n",
    "use bilinear interpolation"
   ]
  },
  {
   "cell_type": "code",
   "execution_count": 18,
   "metadata": {},
   "outputs": [
    {
     "data": {
      "text/plain": [
       "True"
      ]
     },
     "execution_count": 18,
     "metadata": {},
     "output_type": "execute_result"
    }
   ],
   "source": [
    "# Read the image in grayscale format\n",
    "image = cv2.imread('src/meditation.png', cv2.IMREAD_GRAYSCALE) # modify the input image\n",
    "height, width = image.shape\n",
    "\n",
    "scaleFactor = 2 # you can adjust this value and the interpolation method\n",
    "resized_image = cv2.resize(image, (width * scaleFactor, height * scaleFactor), interpolation=cv2.INTER_CUBIC) # recommanded interpolation methods: cv2.INTER_NEAREST, cv2.INTER_LINEAR, cv2.INTER_CUBIC, cv2.INTER_LANCZOS4\n",
    "\n",
    "# Save or display the resized image\n",
    "#cv2.imwrite('output/resized_image.png', resized_image)\n",
    "\n",
    "# find the threshold automatically based on the hostogram using Otsu's method\n",
    "ret, thresholded_image = cv2.threshold(resized_image, 0, 255, cv2.THRESH_BINARY_INV + cv2.THRESH_OTSU)\n",
    "\n",
    "# decide whether or not to invert the image\n",
    "#inverted_image = 255 - thresholded_image\n",
    "inverted_image = thresholded_image\n",
    "\n",
    "# Find contours in the binary image\n",
    "contours, _ = cv2.findContours(inverted_image, cv2.RETR_LIST, cv2.CHAIN_APPROX_NONE)\n",
    "\n",
    "# Create an empty image to draw contours on (make sure it's a 3-channel image)\n",
    "contour_image = np.zeros((image.shape[0], image.shape[1], 3), dtype=np.uint8)\n",
    "\n",
    "# Draw the contours on the empty image\n",
    "# Using a visible color (e.g., green) and a suitable thickness\n",
    "#cv2.drawContours(contour_image, contours, -1, (0, 255, 0), 1)  # Green color, thickness of 1\n",
    "\n",
    "# Save or display the contour image\n",
    "cv2.imwrite('output/intermediate_image.png', thresholded_image)\n",
    "#cv2.imwrite('output/contour_image.png', contour_image)\n",
    "\n"
   ]
  },
  {
   "cell_type": "markdown",
   "metadata": {},
   "source": [
    "# step 2: use contour points to generate SVG file"
   ]
  },
  {
   "cell_type": "code",
   "execution_count": 19,
   "metadata": {},
   "outputs": [],
   "source": [
    "# Create SVG File\n",
    "output_dir = 'output/meditation' # modify the output directory\n",
    "os.makedirs(output_dir, exist_ok=True)\n",
    "output_file = os.path.join(output_dir, 'meditation_cubic2.svg')\n",
    "dwg = svgwrite.Drawing(output_file, profile='tiny')\n",
    "\n",
    "for contour in contours:\n",
    "\n",
    "    # Step 2: Fit Bezier Curves\n",
    "    # Convert contour points to a format suitable for splprep\n",
    "    points = contour[:, 0, :]  # Remove unnecessary dimension\n",
    "    # make the number of contour points into 3n by deleting the last point\n",
    "    if len(points) % 3 == 1:\n",
    "        points = points[:-1]\n",
    "    elif len(points) % 3 == 2:\n",
    "        points = points[:-2]\n",
    "\n",
    "    x, y = points[:, 0], points[:, 1]\n",
    "\n",
    "    # Fit spline to contour points\n",
    "    tck, u = splprep([x, y], s=0, k=3)\n",
    "\n",
    "    # Evaluate spline and resample to ensure 3n points\n",
    "    num_points = len(points)\n",
    "\n",
    "    # Evaluate spline\n",
    "    u_new = np.linspace(u.min(), u.max(), num=num_points)\n",
    "    x_new, y_new = splev(u_new, tck)\n",
    "\n",
    "    \n",
    "\n",
    "    # Move to the start point\n",
    "    path_data = f'M {x_new[0]},{y_new[0]} '\n",
    "\n",
    "    # Create path data for cubic Bezier curve\n",
    "    for i in range(1, len(x_new) - 1, 3):\n",
    "        if i + 2 < len(x_new):\n",
    "            path_data += f'C {x_new[i]},{y_new[i]} {x_new[i+1]},{y_new[i+1]} {x_new[i+2]},{y_new[i+2]} '\n",
    "    # add the last curve\n",
    "    path_data += f'C {x_new[num_points - 2]},{y_new[num_points - 2]} {x_new[num_points - 1]},{y_new[num_points - 1]} {x_new[0]},{y_new[0]} '\n",
    "\n",
    "    # Add the path to the SVG\n",
    "    dwg.add(dwg.path(d=path_data, stroke='black', fill='none'))\n",
    "\n",
    "# Save the SVG file\n",
    "dwg.save()\n"
   ]
  }
 ],
 "metadata": {
  "kernelspec": {
   "display_name": "aia16",
   "language": "python",
   "name": "python3"
  },
  "language_info": {
   "codemirror_mode": {
    "name": "ipython",
    "version": 3
   },
   "file_extension": ".py",
   "mimetype": "text/x-python",
   "name": "python",
   "nbconvert_exporter": "python",
   "pygments_lexer": "ipython3",
   "version": "3.8.1"
  }
 },
 "nbformat": 4,
 "nbformat_minor": 2
}
