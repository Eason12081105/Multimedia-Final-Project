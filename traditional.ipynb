{
 "cells": [
  {
   "cell_type": "markdown",
   "metadata": {},
   "source": [
    "# Image Vectorization using Traditional method"
   ]
  },
  {
   "cell_type": "code",
   "execution_count": 1,
   "metadata": {},
   "outputs": [
    {
     "name": "stdout",
     "output_type": "stream",
     "text": [
      "Requirement already satisfied: opencv-python in /Users/easonou/anaconda3/envs/aia16/lib/python3.8/site-packages (4.9.0.80)\n",
      "Requirement already satisfied: numpy>=1.17.0 in /Users/easonou/anaconda3/envs/aia16/lib/python3.8/site-packages (from opencv-python) (1.24.4)\n",
      "Requirement already satisfied: numpy in /Users/easonou/anaconda3/envs/aia16/lib/python3.8/site-packages (1.24.4)\n",
      "Requirement already satisfied: scipy in /Users/easonou/anaconda3/envs/aia16/lib/python3.8/site-packages (1.10.1)\n",
      "Requirement already satisfied: numpy<1.27.0,>=1.19.5 in /Users/easonou/anaconda3/envs/aia16/lib/python3.8/site-packages (from scipy) (1.24.4)\n",
      "Collecting svgwrite\n",
      "  Downloading svgwrite-1.4.3-py3-none-any.whl.metadata (8.8 kB)\n",
      "Downloading svgwrite-1.4.3-py3-none-any.whl (67 kB)\n",
      "\u001b[2K   \u001b[90m━━━━━━━━━━━━━━━━━━━━━━━━━━━━━━━━━━━━━━━━\u001b[0m \u001b[32m67.1/67.1 kB\u001b[0m \u001b[31m969.3 kB/s\u001b[0m eta \u001b[36m0:00:00\u001b[0m\u001b[36m0:00:01\u001b[0m\n",
      "\u001b[?25hInstalling collected packages: svgwrite\n",
      "Successfully installed svgwrite-1.4.3\n"
     ]
    }
   ],
   "source": [
    "!pip install opencv-python\n",
    "!pip install numpy\n",
    "!pip install scipy\n",
    "!pip install svgwrite"
   ]
  },
  {
   "cell_type": "code",
   "execution_count": 3,
   "metadata": {},
   "outputs": [],
   "source": [
    "# import packages\n",
    "import cv2\n",
    "import numpy as np"
   ]
  },
  {
   "cell_type": "markdown",
   "metadata": {},
   "source": [
    "# step 1: Interpolation\n",
    "use bilinear interpolation"
   ]
  },
  {
   "cell_type": "code",
   "execution_count": 10,
   "metadata": {},
   "outputs": [
    {
     "data": {
      "text/plain": [
       "True"
      ]
     },
     "execution_count": 10,
     "metadata": {},
     "output_type": "execute_result"
    }
   ],
   "source": [
    "# Read the image\n",
    "image = cv2.imread('src/2.jpg', cv2.IMREAD_GRAYSCALE)\n",
    "height, width = image.shape\n",
    "\n",
    "# Convert RGB to Lab\n",
    "# lab_image = cv2.cvtColor(image, cv2.COLOR_BGR2Lab)\n",
    "\n",
    "# Split the channels\n",
    "# L, a, b = cv2.split(lab_image)\n",
    "\n",
    "# Resize each channel using bilinear interpolation\n",
    "resized_image = cv2.resize(image, (width * 5, height * 5), interpolation=cv2.INTER_CUBIC)\n",
    "# L_resized = cv2.resize(L, (width * 5, height * 5), interpolation=cv2.INTER_LINEAR)\n",
    "# a_resized = cv2.resize(a, (width * 5, height * 5), interpolation=cv2.INTER_LINEAR)\n",
    "# b_resized = cv2.resize(b, (width * 5, height * 5), interpolation=cv2.INTER_LINEAR)\n",
    "\n",
    "# Merge the channels back\n",
    "# resized_lab_image = cv2.merge((L_resized, a_resized, b_resized))\n",
    "\n",
    "# Convert back to RGB\n",
    "# resized_image = cv2.cvtColor(resized_lab_image, cv2.COLOR_Lab2BGR)\n",
    "\n",
    "# Save or display the resized image\n",
    "cv2.imwrite('output/resized_image.png', resized_image)\n",
    "\n",
    "# Set a threshold value\n",
    "threshold_value = 220\n",
    "\n",
    "# Apply the threshold\n",
    "_, thresholded_image = cv2.threshold(image, threshold_value, 255, cv2.THRESH_BINARY)\n",
    "_, thresholded_image_with_resize = cv2.threshold(resized_image, threshold_value, 255, cv2.THRESH_BINARY)\n",
    "\n",
    "# invert the image\n",
    "inverted_image = 255 - thresholded_image\n",
    "inverted_image_with_resize = 255 - thresholded_image_with_resize\n",
    "\n",
    "# Find contours in the binary image\n",
    "contours, _ = cv2.findContours(inverted_image, cv2.RETR_LIST, cv2.CHAIN_APPROX_NONE)\n",
    "contours_with_resize, _ = cv2.findContours(inverted_image_with_resize, cv2.RETR_LIST, cv2.CHAIN_APPROX_NONE)\n",
    "\n",
    "# Create an empty image to draw contours on (make sure it's a 3-channel image)\n",
    "contour_image = np.zeros((image.shape[0], image.shape[1], 3), dtype=np.uint8)\n",
    "contour_image_with_resize = np.zeros((resized_image.shape[0], resized_image.shape[1], 3), dtype=np.uint8)\n",
    "\n",
    "# Draw the contours on the empty image\n",
    "# Using a visible color (e.g., green) and a suitable thickness\n",
    "cv2.drawContours(contour_image, contours, -1, (0, 255, 0), 1)  # Green color, thickness of 1\n",
    "cv2.drawContours(contour_image_with_resize, contours_with_resize, -1, (0, 255, 0), 1)  # Green color, thickness of 1\n",
    "\n",
    "# Save or display the contour image\n",
    "cv2.imwrite('output/threshold_image.png', thresholded_image)\n",
    "cv2.imwrite('output/threshold_image_with_resize.png', thresholded_image_with_resize)\n",
    "cv2.imwrite('output/contour_image.png', contour_image)\n",
    "cv2.imwrite('output/contour_image_with_resize.png', contour_image_with_resize)\n",
    "\n"
   ]
  },
  {
   "cell_type": "markdown",
   "metadata": {},
   "source": [
    "# step 2: use contour points to generate SVG file"
   ]
  },
  {
   "cell_type": "code",
   "execution_count": 11,
   "metadata": {},
   "outputs": [],
   "source": [
    "import cv2\n",
    "import numpy as np\n",
    "from scipy.interpolate import splprep, splev\n",
    "import svgwrite\n",
    "\n",
    "# Step 1: Extract Contour Points\n",
    "# image = cv2.imread('image.png', cv2.IMREAD_GRAYSCALE)\n",
    "# _, thresh = cv2.threshold(image, 128, 255, cv2.THRESH_BINARY)\n",
    "# contours, _ = cv2.findContours(thresh, cv2.RETR_EXTERNAL, cv2.CHAIN_APPROX_SIMPLE)\n",
    "\n",
    "# Select the largest contour\n",
    "contour_with_resize = max(contours_with_resize, key=len)\n",
    "\n",
    "# Step 2: Fit Bezier Curves\n",
    "# Convert contour points to a format suitable for splprep\n",
    "points = contour_with_resize[:, 0, :]  # Remove unnecessary dimension\n",
    "x, y = points[:, 0], points[:, 1]\n",
    "\n",
    "# Fit spline to contour points\n",
    "tck, u = splprep([x, y], s=0, k=3)\n",
    "\n",
    "# Evaluate spline\n",
    "u_new = np.linspace(u.min(), u.max(), num=len(points)*10)\n",
    "x_new, y_new = splev(u_new, tck)\n",
    "\n",
    "# Step 3: Create SVG File\n",
    "dwg = svgwrite.Drawing('output/2_with_cubic.svg', profile='tiny')\n",
    "\n",
    "# Move to the start point\n",
    "path_data = f'M {x_new[0]},{y_new[0]} '\n",
    "\n",
    "# Create path data for cubic Bezier curve\n",
    "for i in range(1, len(x_new)-1, 3):\n",
    "    if i + 2 < len(x_new):\n",
    "        path_data += f'C {x_new[i]},{y_new[i]} {x_new[i+1]},{y_new[i+1]} {x_new[i+2]},{y_new[i+2]} '\n",
    "\n",
    "# Add the path to the SVG\n",
    "dwg.add(dwg.path(d=path_data, stroke='black', fill='none'))\n",
    "\n",
    "# Save the SVG file\n",
    "dwg.save()\n"
   ]
  }
 ],
 "metadata": {
  "kernelspec": {
   "display_name": "aia16",
   "language": "python",
   "name": "python3"
  },
  "language_info": {
   "codemirror_mode": {
    "name": "ipython",
    "version": 3
   },
   "file_extension": ".py",
   "mimetype": "text/x-python",
   "name": "python",
   "nbconvert_exporter": "python",
   "pygments_lexer": "ipython3",
   "version": "3.8.1"
  }
 },
 "nbformat": 4,
 "nbformat_minor": 2
}
